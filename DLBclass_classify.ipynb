{
 "cells": [
  {
   "cell_type": "code",
   "execution_count": null,
   "id": "fd48ee08",
   "metadata": {},
   "outputs": [],
   "source": [
    "# Import required libraries\n",
    "import pandas as pd\n",
    "import src.classify_generic as cg\n",
    "import src.format_data as fd\n",
    "import src.tool_functions as dlbclass\n",
    "from matplotlib import pyplot as plt\n",
    "import warnings\n",
    "warnings.filterwarnings('ignore')"
   ]
  },
  {
   "cell_type": "code",
   "execution_count": null,
   "id": "6ec66e30",
   "metadata": {},
   "outputs": [],
   "source": [
    "####################################\n",
    "#  *** Change variables here! ***  #\n",
    "#   Afterwards, run all cells via  #\n",
    "#     menu: Cell -> Run All        # \n",
    "####################################\n",
    "\n",
    "# Replace gsm_file with your GSM file name to classify your own data\n",
    "gsm_file = './gsm/DLBCL_testset_gsm.tsv'\n",
    "\n",
    "# Set your cohort name\n",
    "cohort = 'testset'"
   ]
  },
  {
   "cell_type": "code",
   "execution_count": null,
   "id": "11cc1250",
   "metadata": {},
   "outputs": [],
   "source": [
    "classified_samples = dlbclass.classify_samples(gsm_file, cohort)\n",
    "classified_samples"
   ]
  },
  {
   "cell_type": "code",
   "execution_count": null,
   "id": "70b0e8b2",
   "metadata": {},
   "outputs": [],
   "source": [
    "###########################################################\n",
    "#              Individual sample bar plots.               #\n",
    "# Replace sample = '...' with the sample you want to see. #\n",
    "###########################################################\n",
    "\n",
    "# Change this here, and rerun this cell with the '>Run' button.\n",
    "sample = 'DLBCL_C_D_PAIR23'\n",
    "#\n",
    "\n",
    "\n",
    "dlbclass.plot_sample_barplot(sample, classified_samples)"
   ]
  },
  {
   "cell_type": "code",
   "execution_count": null,
   "id": "c1c7d052",
   "metadata": {},
   "outputs": [],
   "source": []
  }
 ],
 "metadata": {
  "kernelspec": {
   "display_name": "Python 3 (ipykernel)",
   "language": "python",
   "name": "python3"
  },
  "language_info": {
   "codemirror_mode": {
    "name": "ipython",
    "version": 3
   },
   "file_extension": ".py",
   "mimetype": "text/x-python",
   "name": "python",
   "nbconvert_exporter": "python",
   "pygments_lexer": "ipython3",
   "version": "3.7.8"
  }
 },
 "nbformat": 4,
 "nbformat_minor": 5
}
