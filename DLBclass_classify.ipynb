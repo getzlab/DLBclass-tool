{
 "cells": [
  {
   "cell_type": "code",
   "execution_count": 14,
   "id": "0d4852cc",
   "metadata": {},
   "outputs": [
    {
     "data": {
      "text/plain": [
       "'1.10.2'"
      ]
     },
     "execution_count": 14,
     "metadata": {},
     "output_type": "execute_result"
    }
   ],
   "source": [
    "import numpy as np\n",
    "import torch\n",
    "\n",
    "torch.__version__"
   ]
  },
  {
   "cell_type": "code",
   "execution_count": 1,
   "id": "fd48ee08",
   "metadata": {},
   "outputs": [],
   "source": [
    "# Import required libraries\n",
    "import pandas as pd\n",
    "import src.classify_generic as cg\n",
    "import src.format_data as fd\n",
    "import src.tool_functions as dlbclass\n",
    "from matplotlib import pyplot as plt\n",
    "import warnings\n",
    "warnings.filterwarnings('ignore')"
   ]
  },
  {
   "cell_type": "code",
   "execution_count": 2,
   "id": "6ec66e30",
   "metadata": {},
   "outputs": [],
   "source": [
    "####################################\n",
    "#  *** Change variables here! ***  #\n",
    "#   Afterwards, run all cells via  #\n",
    "#     menu: Cell -> Run All        # \n",
    "####################################\n",
    "\n",
    "# Replace gsm_file with your GSM file name to classify your own data\n",
    "gsm_file = './gsm/DLBCL_testset_gsm.tsv'\n",
    "\n",
    "# Set your cohort name\n",
    "cohort = 'testset'"
   ]
  },
  {
   "cell_type": "code",
   "execution_count": 3,
   "id": "14227cf9",
   "metadata": {},
   "outputs": [],
   "source": [
    "############################################\n",
    "# No need to modify cells below this point #\n",
    "############################################"
   ]
  },
  {
   "cell_type": "code",
   "execution_count": 4,
   "id": "11cc1250",
   "metadata": {},
   "outputs": [
    {
     "name": "stdout",
     "output_type": "stream",
     "text": [
      "Predictions will be written to:\n",
      "\n",
      " ./classifications/testset_classified_samples.tsv\n"
     ]
    },
    {
     "data": {
      "text/html": [
       "<div>\n",
       "<style scoped>\n",
       "    .dataframe tbody tr th:only-of-type {\n",
       "        vertical-align: middle;\n",
       "    }\n",
       "\n",
       "    .dataframe tbody tr th {\n",
       "        vertical-align: top;\n",
       "    }\n",
       "\n",
       "    .dataframe thead th {\n",
       "        text-align: right;\n",
       "    }\n",
       "</style>\n",
       "<table border=\"1\" class=\"dataframe\">\n",
       "  <thead>\n",
       "    <tr style=\"text-align: right;\">\n",
       "      <th></th>\n",
       "      <th>C1</th>\n",
       "      <th>C2</th>\n",
       "      <th>C3</th>\n",
       "      <th>C4</th>\n",
       "      <th>C5</th>\n",
       "      <th>Confidence</th>\n",
       "      <th>PredictedCluster</th>\n",
       "    </tr>\n",
       "    <tr>\n",
       "      <th>sample</th>\n",
       "      <th></th>\n",
       "      <th></th>\n",
       "      <th></th>\n",
       "      <th></th>\n",
       "      <th></th>\n",
       "      <th></th>\n",
       "      <th></th>\n",
       "    </tr>\n",
       "  </thead>\n",
       "  <tbody>\n",
       "    <tr>\n",
       "      <th>DLBCL11572</th>\n",
       "      <td>0.004164</td>\n",
       "      <td>0.007046</td>\n",
       "      <td>0.973578</td>\n",
       "      <td>0.011075</td>\n",
       "      <td>0.004137</td>\n",
       "      <td>0.973578</td>\n",
       "      <td>C3</td>\n",
       "    </tr>\n",
       "    <tr>\n",
       "      <th>DLBCL_RICOVER_99</th>\n",
       "      <td>0.082979</td>\n",
       "      <td>0.031134</td>\n",
       "      <td>0.009259</td>\n",
       "      <td>0.020035</td>\n",
       "      <td>0.856593</td>\n",
       "      <td>0.856593</td>\n",
       "      <td>C5</td>\n",
       "    </tr>\n",
       "    <tr>\n",
       "      <th>DLBCL_C_D_1132_NULLPAIR</th>\n",
       "      <td>0.191042</td>\n",
       "      <td>0.013594</td>\n",
       "      <td>0.044699</td>\n",
       "      <td>0.608126</td>\n",
       "      <td>0.142539</td>\n",
       "      <td>0.608126</td>\n",
       "      <td>C4</td>\n",
       "    </tr>\n",
       "    <tr>\n",
       "      <th>DLBCL_LS4085</th>\n",
       "      <td>0.014521</td>\n",
       "      <td>0.068145</td>\n",
       "      <td>0.092188</td>\n",
       "      <td>0.053822</td>\n",
       "      <td>0.771323</td>\n",
       "      <td>0.771323</td>\n",
       "      <td>C5</td>\n",
       "    </tr>\n",
       "    <tr>\n",
       "      <th>DLBCL_RICOVER_224</th>\n",
       "      <td>0.010460</td>\n",
       "      <td>0.148672</td>\n",
       "      <td>0.017777</td>\n",
       "      <td>0.024433</td>\n",
       "      <td>0.798658</td>\n",
       "      <td>0.798658</td>\n",
       "      <td>C5</td>\n",
       "    </tr>\n",
       "    <tr>\n",
       "      <th>...</th>\n",
       "      <td>...</td>\n",
       "      <td>...</td>\n",
       "      <td>...</td>\n",
       "      <td>...</td>\n",
       "      <td>...</td>\n",
       "      <td>...</td>\n",
       "      <td>...</td>\n",
       "    </tr>\n",
       "    <tr>\n",
       "      <th>DLBCL_C_D_PAIR20</th>\n",
       "      <td>0.016655</td>\n",
       "      <td>0.280063</td>\n",
       "      <td>0.146509</td>\n",
       "      <td>0.019758</td>\n",
       "      <td>0.537015</td>\n",
       "      <td>0.537015</td>\n",
       "      <td>C5</td>\n",
       "    </tr>\n",
       "    <tr>\n",
       "      <th>DLBCL_C_D_PAIR22</th>\n",
       "      <td>0.093511</td>\n",
       "      <td>0.604602</td>\n",
       "      <td>0.249694</td>\n",
       "      <td>0.032911</td>\n",
       "      <td>0.019281</td>\n",
       "      <td>0.604602</td>\n",
       "      <td>C2</td>\n",
       "    </tr>\n",
       "    <tr>\n",
       "      <th>DLBCL_C_D_PAIR23</th>\n",
       "      <td>0.241391</td>\n",
       "      <td>0.512314</td>\n",
       "      <td>0.016246</td>\n",
       "      <td>0.036158</td>\n",
       "      <td>0.193892</td>\n",
       "      <td>0.512314</td>\n",
       "      <td>C2</td>\n",
       "    </tr>\n",
       "    <tr>\n",
       "      <th>DLBCL_C_D_PAIR5</th>\n",
       "      <td>0.006723</td>\n",
       "      <td>0.937897</td>\n",
       "      <td>0.038899</td>\n",
       "      <td>0.006344</td>\n",
       "      <td>0.010137</td>\n",
       "      <td>0.937897</td>\n",
       "      <td>C2</td>\n",
       "    </tr>\n",
       "    <tr>\n",
       "      <th>DLBCL_C_D_PAIR9</th>\n",
       "      <td>0.088121</td>\n",
       "      <td>0.378653</td>\n",
       "      <td>0.027102</td>\n",
       "      <td>0.438010</td>\n",
       "      <td>0.068114</td>\n",
       "      <td>0.438010</td>\n",
       "      <td>C4</td>\n",
       "    </tr>\n",
       "  </tbody>\n",
       "</table>\n",
       "<p>149 rows × 7 columns</p>\n",
       "</div>"
      ],
      "text/plain": [
       "                               C1        C2        C3        C4        C5  \\\n",
       "sample                                                                      \n",
       "DLBCL11572               0.004164  0.007046  0.973578  0.011075  0.004137   \n",
       "DLBCL_RICOVER_99         0.082979  0.031134  0.009259  0.020035  0.856593   \n",
       "DLBCL_C_D_1132_NULLPAIR  0.191042  0.013594  0.044699  0.608126  0.142539   \n",
       "DLBCL_LS4085             0.014521  0.068145  0.092188  0.053822  0.771323   \n",
       "DLBCL_RICOVER_224        0.010460  0.148672  0.017777  0.024433  0.798658   \n",
       "...                           ...       ...       ...       ...       ...   \n",
       "DLBCL_C_D_PAIR20         0.016655  0.280063  0.146509  0.019758  0.537015   \n",
       "DLBCL_C_D_PAIR22         0.093511  0.604602  0.249694  0.032911  0.019281   \n",
       "DLBCL_C_D_PAIR23         0.241391  0.512314  0.016246  0.036158  0.193892   \n",
       "DLBCL_C_D_PAIR5          0.006723  0.937897  0.038899  0.006344  0.010137   \n",
       "DLBCL_C_D_PAIR9          0.088121  0.378653  0.027102  0.438010  0.068114   \n",
       "\n",
       "                         Confidence PredictedCluster  \n",
       "sample                                                \n",
       "DLBCL11572                 0.973578               C3  \n",
       "DLBCL_RICOVER_99           0.856593               C5  \n",
       "DLBCL_C_D_1132_NULLPAIR    0.608126               C4  \n",
       "DLBCL_LS4085               0.771323               C5  \n",
       "DLBCL_RICOVER_224          0.798658               C5  \n",
       "...                             ...              ...  \n",
       "DLBCL_C_D_PAIR20           0.537015               C5  \n",
       "DLBCL_C_D_PAIR22           0.604602               C2  \n",
       "DLBCL_C_D_PAIR23           0.512314               C2  \n",
       "DLBCL_C_D_PAIR5            0.937897               C2  \n",
       "DLBCL_C_D_PAIR9            0.438010               C4  \n",
       "\n",
       "[149 rows x 7 columns]"
      ]
     },
     "execution_count": 4,
     "metadata": {},
     "output_type": "execute_result"
    }
   ],
   "source": [
    "classified_samples = dlbclass.classify_samples(gsm_file, cohort)\n",
    "classified_samples"
   ]
  },
  {
   "cell_type": "code",
   "execution_count": 9,
   "id": "70b0e8b2",
   "metadata": {},
   "outputs": [
    {
     "data": {
      "image/png": "[encoded data removed]",
      "text/plain": [
       "<Figure size 720x504 with 1 Axes>"
      ]
     },
     "metadata": {
      "needs_background": "light"
     },
     "output_type": "display_data"
    }
   ],
   "source": [
    "###########################################################\n",
    "#              Individual sample bar plots.               #\n",
    "# Replace sample = '...' with the sample you want to see. #\n",
    "###########################################################\n",
    "\n",
    "# Change this here, and rerun this cell with the '>Run' button.\n",
    "sample = 'DLBCL_C_D_PAIR23'\n",
    "#\n",
    "\n",
    "\n",
    "dlbclass.plot_sample_barplot(sample, classified_samples)"
   ]
  },
  {
   "cell_type": "code",
   "execution_count": null,
   "id": "c1c7d052",
   "metadata": {},
   "outputs": [],
   "source": []
  }
 ],
 "metadata": {
  "kernelspec": {
   "display_name": "Python 3 (ipykernel)",
   "language": "python",
   "name": "python3"
  },
  "language_info": {
   "codemirror_mode": {
    "name": "ipython",
    "version": 3
   },
   "file_extension": ".py",
   "mimetype": "text/x-python",
   "name": "python",
   "nbconvert_exporter": "python",
   "pygments_lexer": "ipython3",
   "version": "3.7.8"
  }
 },
 "nbformat": 4,
 "nbformat_minor": 5
}
